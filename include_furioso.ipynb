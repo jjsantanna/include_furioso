{
 "cells": [
  {
   "cell_type": "code",
   "execution_count": null,
   "metadata": {},
   "outputs": [],
   "source": [
    "def send_email(destination,body,gmail_password):\n",
    "    import smtplib\n",
    "\n",
    "    gmail_user = 'jjsantanna.script@gmail.com'\n",
    "    \n",
    "    sent_from = gmail_user\n",
    "    to = [destination]\n",
    "    subject = 'Script Ended'\n",
    "    body = \"Hey bitch, take a look on the output of your script!\"\n",
    "\n",
    "    email_text = \"From: %s\\nTo: %s\\nSubject: %s\\n\\n%s\\n\" % (sent_from, \", \".join(to), subject, body)\n",
    "\n",
    "    try:\n",
    "        server = smtplib.SMTP_SSL('smtp.gmail.com', 465)\n",
    "        server.ehlo()\n",
    "        server.login(gmail_user, gmail_password)\n",
    "        server.sendmail(sent_from, to, email_text)\n",
    "        server.close()\n",
    "\n",
    "        print ('Email sent!')\n",
    "    except:\n",
    "        print ('Something went wrong...')"
   ]
  }
 ],
 "metadata": {
  "kernelspec": {
   "display_name": "Python 3",
   "language": "python",
   "name": "python3"
  },
  "language_info": {
   "codemirror_mode": {
    "name": "ipython",
    "version": 3
   },
   "file_extension": ".py",
   "mimetype": "text/x-python",
   "name": "python",
   "nbconvert_exporter": "python",
   "pygments_lexer": "ipython3",
   "version": "3.7.6"
  }
 },
 "nbformat": 4,
 "nbformat_minor": 2
}
